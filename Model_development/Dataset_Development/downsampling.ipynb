{
 "cells": [
  {
   "cell_type": "code",
   "execution_count": 5,
   "metadata": {},
   "outputs": [],
   "source": [
    "import pandas as pd \n",
    "import numpy as np"
   ]
  },
  {
   "cell_type": "code",
   "execution_count": 6,
   "metadata": {},
   "outputs": [],
   "source": [
    "df = pd.read_excel(r'.\\3class_before_downsampling.xlsx')\n"
   ]
  },
  {
   "cell_type": "code",
   "execution_count": 3,
   "metadata": {},
   "outputs": [
    {
     "data": {
      "text/plain": [
       "Verification_Status\n",
       "ข่าวปลอม        6404\n",
       "ข่าวจริง        3002\n",
       "ข่าวบิดเบือน    1700\n",
       "Name: count, dtype: int64"
      ]
     },
     "execution_count": 3,
     "metadata": {},
     "output_type": "execute_result"
    }
   ],
   "source": [
    "df.Verification_Status.value_counts()"
   ]
  },
  {
   "cell_type": "code",
   "execution_count": null,
   "metadata": {},
   "outputs": [
    {
     "name": "stdout",
     "output_type": "stream",
     "text": [
      "Class distribution before downsampling:\n",
      "Verification_Status\n",
      "ข่าวปลอม        6404\n",
      "ข่าวจริง        3002\n",
      "ข่าวบิดเบือน    1700\n",
      "Name: count, dtype: int64\n",
      "\n",
      "Class distribution after downsampling:\n",
      "Verification_Status\n",
      "ข่าวปลอม        1700\n",
      "ข่าวจริง        1700\n",
      "ข่าวบิดเบือน    1700\n",
      "Name: count, dtype: int64\n",
      "Downsampled dataset saved to 'balanced_dataset.xlsx'\n"
     ]
    }
   ],
   "source": [
    "import pandas as pd\n",
    "from sklearn.utils import resample\n",
    "\n",
    "print(\"Class distribution before downsampling:\")\n",
    "print(df['Verification_Status'].value_counts())\n",
    "\n",
    "class_counts = df['Verification_Status'].value_counts()\n",
    "min_count = class_counts.min()  \n",
    "\n",
    "dfs = []\n",
    "for class_label in df['Verification_Status'].unique():\n",
    "    class_subset = df[df['Verification_Status'] == class_label]\n",
    "    downsampled_class = resample(class_subset, \n",
    "                                 replace=False,   \n",
    "                                 n_samples=min_count, \n",
    "                                 random_state=42)  \n",
    "    dfs.append(downsampled_class)\n",
    "\n",
    "balanced_df = pd.concat(dfs).reset_index(drop=True)\n",
    "\n",
    "print(\"\\nClass distribution after downsampling:\")\n",
    "print(balanced_df['Verification_Status'].value_counts())\n",
    "\n",
    "balanced_df.to_excel('3class_1700.xlsx', index=False)\n"
   ]
  },
  {
   "cell_type": "code",
   "execution_count": null,
   "metadata": {},
   "outputs": [],
   "source": []
  }
 ],
 "metadata": {
  "kernelspec": {
   "display_name": "base",
   "language": "python",
   "name": "python3"
  },
  "language_info": {
   "codemirror_mode": {
    "name": "ipython",
    "version": 3
   },
   "file_extension": ".py",
   "mimetype": "text/x-python",
   "name": "python",
   "nbconvert_exporter": "python",
   "pygments_lexer": "ipython3",
   "version": "3.12.3"
  }
 },
 "nbformat": 4,
 "nbformat_minor": 2
}
