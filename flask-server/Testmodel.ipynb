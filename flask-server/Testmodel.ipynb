{
 "cells": [
  {
   "cell_type": "code",
   "execution_count": null,
   "id": "791be1c7",
   "metadata": {},
   "outputs": [
    {
     "name": "stdout",
     "output_type": "stream",
     "text": [
      "WARNING:tensorflow:From C:\\Users\\Janejojija\\AppData\\Roaming\\Python\\Python312\\site-packages\\tf_keras\\src\\losses.py:2976: The name tf.losses.sparse_softmax_cross_entropy is deprecated. Please use tf.compat.v1.losses.sparse_softmax_cross_entropy instead.\n",
      "\n"
     ]
    },
    {
     "name": "stderr",
     "output_type": "stream",
     "text": [
      "C:\\Users\\Janejojija\\AppData\\Roaming\\Python\\Python312\\site-packages\\peft\\tuners\\lora\\bnb.py:85: UserWarning: Merge lora module to 8-bit linear may get different generations due to rounding errors.\n",
      "  warnings.warn(\n"
     ]
    },
    {
     "data": {
      "application/vnd.jupyter.widget-view+json": {
       "model_id": "cb750af7605c4ff3bdef9ed0286bd5b5",
       "version_major": 2,
       "version_minor": 0
      },
      "text/plain": [
       "model.safetensors:  16%|#6        | 377M/2.33G [00:00<?, ?B/s]"
      ]
     },
     "metadata": {},
     "output_type": "display_data"
    },
    {
     "data": {
      "text/plain": [
       "MT5ForConditionalGeneration(\n",
       "  (shared): Embedding(250112, 768)\n",
       "  (encoder): MT5Stack(\n",
       "    (embed_tokens): Embedding(250112, 768)\n",
       "    (block): ModuleList(\n",
       "      (0): MT5Block(\n",
       "        (layer): ModuleList(\n",
       "          (0): MT5LayerSelfAttention(\n",
       "            (SelfAttention): MT5Attention(\n",
       "              (q): Linear8bitLt(in_features=768, out_features=768, bias=False)\n",
       "              (k): Linear8bitLt(in_features=768, out_features=768, bias=False)\n",
       "              (v): Linear8bitLt(in_features=768, out_features=768, bias=False)\n",
       "              (o): Linear8bitLt(in_features=768, out_features=768, bias=False)\n",
       "              (relative_attention_bias): Embedding(32, 12)\n",
       "            )\n",
       "            (layer_norm): MT5LayerNorm()\n",
       "            (dropout): Dropout(p=0.1, inplace=False)\n",
       "          )\n",
       "          (1): MT5LayerFF(\n",
       "            (DenseReluDense): MT5DenseGatedActDense(\n",
       "              (wi_0): Linear8bitLt(in_features=768, out_features=2048, bias=False)\n",
       "              (wi_1): Linear8bitLt(in_features=768, out_features=2048, bias=False)\n",
       "              (wo): Linear(in_features=2048, out_features=768, bias=False)\n",
       "              (dropout): Dropout(p=0.1, inplace=False)\n",
       "              (act): NewGELUActivation()\n",
       "            )\n",
       "            (layer_norm): MT5LayerNorm()\n",
       "            (dropout): Dropout(p=0.1, inplace=False)\n",
       "          )\n",
       "        )\n",
       "      )\n",
       "      (1-11): 11 x MT5Block(\n",
       "        (layer): ModuleList(\n",
       "          (0): MT5LayerSelfAttention(\n",
       "            (SelfAttention): MT5Attention(\n",
       "              (q): Linear8bitLt(in_features=768, out_features=768, bias=False)\n",
       "              (k): Linear8bitLt(in_features=768, out_features=768, bias=False)\n",
       "              (v): Linear8bitLt(in_features=768, out_features=768, bias=False)\n",
       "              (o): Linear8bitLt(in_features=768, out_features=768, bias=False)\n",
       "            )\n",
       "            (layer_norm): MT5LayerNorm()\n",
       "            (dropout): Dropout(p=0.1, inplace=False)\n",
       "          )\n",
       "          (1): MT5LayerFF(\n",
       "            (DenseReluDense): MT5DenseGatedActDense(\n",
       "              (wi_0): Linear8bitLt(in_features=768, out_features=2048, bias=False)\n",
       "              (wi_1): Linear8bitLt(in_features=768, out_features=2048, bias=False)\n",
       "              (wo): Linear(in_features=2048, out_features=768, bias=False)\n",
       "              (dropout): Dropout(p=0.1, inplace=False)\n",
       "              (act): NewGELUActivation()\n",
       "            )\n",
       "            (layer_norm): MT5LayerNorm()\n",
       "            (dropout): Dropout(p=0.1, inplace=False)\n",
       "          )\n",
       "        )\n",
       "      )\n",
       "    )\n",
       "    (final_layer_norm): MT5LayerNorm()\n",
       "    (dropout): Dropout(p=0.1, inplace=False)\n",
       "  )\n",
       "  (decoder): MT5Stack(\n",
       "    (embed_tokens): Embedding(250112, 768)\n",
       "    (block): ModuleList(\n",
       "      (0): MT5Block(\n",
       "        (layer): ModuleList(\n",
       "          (0): MT5LayerSelfAttention(\n",
       "            (SelfAttention): MT5Attention(\n",
       "              (q): Linear8bitLt(in_features=768, out_features=768, bias=False)\n",
       "              (k): Linear8bitLt(in_features=768, out_features=768, bias=False)\n",
       "              (v): Linear8bitLt(in_features=768, out_features=768, bias=False)\n",
       "              (o): Linear8bitLt(in_features=768, out_features=768, bias=False)\n",
       "              (relative_attention_bias): Embedding(32, 12)\n",
       "            )\n",
       "            (layer_norm): MT5LayerNorm()\n",
       "            (dropout): Dropout(p=0.1, inplace=False)\n",
       "          )\n",
       "          (1): MT5LayerCrossAttention(\n",
       "            (EncDecAttention): MT5Attention(\n",
       "              (q): Linear8bitLt(in_features=768, out_features=768, bias=False)\n",
       "              (k): Linear8bitLt(in_features=768, out_features=768, bias=False)\n",
       "              (v): Linear8bitLt(in_features=768, out_features=768, bias=False)\n",
       "              (o): Linear8bitLt(in_features=768, out_features=768, bias=False)\n",
       "            )\n",
       "            (layer_norm): MT5LayerNorm()\n",
       "            (dropout): Dropout(p=0.1, inplace=False)\n",
       "          )\n",
       "          (2): MT5LayerFF(\n",
       "            (DenseReluDense): MT5DenseGatedActDense(\n",
       "              (wi_0): Linear8bitLt(in_features=768, out_features=2048, bias=False)\n",
       "              (wi_1): Linear8bitLt(in_features=768, out_features=2048, bias=False)\n",
       "              (wo): Linear(in_features=2048, out_features=768, bias=False)\n",
       "              (dropout): Dropout(p=0.1, inplace=False)\n",
       "              (act): NewGELUActivation()\n",
       "            )\n",
       "            (layer_norm): MT5LayerNorm()\n",
       "            (dropout): Dropout(p=0.1, inplace=False)\n",
       "          )\n",
       "        )\n",
       "      )\n",
       "      (1-11): 11 x MT5Block(\n",
       "        (layer): ModuleList(\n",
       "          (0): MT5LayerSelfAttention(\n",
       "            (SelfAttention): MT5Attention(\n",
       "              (q): Linear8bitLt(in_features=768, out_features=768, bias=False)\n",
       "              (k): Linear8bitLt(in_features=768, out_features=768, bias=False)\n",
       "              (v): Linear8bitLt(in_features=768, out_features=768, bias=False)\n",
       "              (o): Linear8bitLt(in_features=768, out_features=768, bias=False)\n",
       "            )\n",
       "            (layer_norm): MT5LayerNorm()\n",
       "            (dropout): Dropout(p=0.1, inplace=False)\n",
       "          )\n",
       "          (1): MT5LayerCrossAttention(\n",
       "            (EncDecAttention): MT5Attention(\n",
       "              (q): Linear8bitLt(in_features=768, out_features=768, bias=False)\n",
       "              (k): Linear8bitLt(in_features=768, out_features=768, bias=False)\n",
       "              (v): Linear8bitLt(in_features=768, out_features=768, bias=False)\n",
       "              (o): Linear8bitLt(in_features=768, out_features=768, bias=False)\n",
       "            )\n",
       "            (layer_norm): MT5LayerNorm()\n",
       "            (dropout): Dropout(p=0.1, inplace=False)\n",
       "          )\n",
       "          (2): MT5LayerFF(\n",
       "            (DenseReluDense): MT5DenseGatedActDense(\n",
       "              (wi_0): Linear8bitLt(in_features=768, out_features=2048, bias=False)\n",
       "              (wi_1): Linear8bitLt(in_features=768, out_features=2048, bias=False)\n",
       "              (wo): Linear(in_features=2048, out_features=768, bias=False)\n",
       "              (dropout): Dropout(p=0.1, inplace=False)\n",
       "              (act): NewGELUActivation()\n",
       "            )\n",
       "            (layer_norm): MT5LayerNorm()\n",
       "            (dropout): Dropout(p=0.1, inplace=False)\n",
       "          )\n",
       "        )\n",
       "      )\n",
       "    )\n",
       "    (final_layer_norm): MT5LayerNorm()\n",
       "    (dropout): Dropout(p=0.1, inplace=False)\n",
       "  )\n",
       "  (lm_head): Linear(in_features=768, out_features=250112, bias=False)\n",
       ")"
      ]
     },
     "execution_count": 1,
     "metadata": {},
     "output_type": "execute_result"
    },
    {
     "name": "stderr",
     "output_type": "stream",
     "text": [
      "C:\\Users\\Janejojija\\AppData\\Roaming\\Python\\Python312\\site-packages\\huggingface_hub\\file_download.py:140: UserWarning: `huggingface_hub` cache-system uses symlinks by default to efficiently store duplicated files but your machine does not support them in C:\\Users\\Janejojija\\.cache\\huggingface\\hub\\models--google--mt5-base. Caching files will still work but in a degraded version that might require more space on your disk. This warning can be disabled by setting the `HF_HUB_DISABLE_SYMLINKS_WARNING` environment variable. For more details, see https://huggingface.co/docs/huggingface_hub/how-to-cache#limitations.\n",
      "To support symlinks on Windows, you either need to activate Developer Mode or to run Python as an administrator. In order to activate developer mode, see this article: https://docs.microsoft.com/en-us/windows/apps/get-started/enable-your-device-for-development\n",
      "  warnings.warn(message)\n"
     ]
    }
   ],
   "source": [
    "from transformers import AutoModelForSeq2SeqLM, AutoTokenizer, BitsAndBytesConfig\n",
    "from peft import PeftModel, prepare_model_for_kbit_training\n",
    "import torch\n",
    "from transformers import AutoModelForCausalLM, AutoTokenizer, TrainingArguments, Trainer , BitsAndBytesConfig\n",
    "from peft import LoraConfig, get_peft_model , prepare_model_for_kbit_training\n",
    "import torch\n",
    "\n",
    "# ตั้งค่า paths\n",
    "model_path = \"EXt1/KMUTT-CPE35-thai-mt5base-summarizer\"  # โฟลเดอร์ที่บันทึก adapter\n",
    "base_model_name = \"google/mt5-base\"  # ต้องตรงกับโมเดลต้นทางที่ใช้ฝึก\n",
    "\n",
    "# ตั้งค่า Quantization Config (ต้องตรงกับตอนฝึก)\n",
    "quantization_config = BitsAndBytesConfig(\n",
    "    load_in_4bit=False,\n",
    "    load_in_8bit = True,\n",
    "    bnb_4bit_use_double_quant=False,\n",
    "    llm_int8_threshold = 6.0\n",
    ")\n",
    "\n",
    "# กำหนด device_map แบบ custom (สามารถปรับได้ตาม VRAM ของ GPU)\n",
    "device_map = \"auto\"  # หรือปรับเป็น dictionary ถ้าต้องการระบุชัดเจน\n",
    "# โหลด Base Model ใหม่ในโหมด 8-bit พร้อม offloading\n",
    "base_model = AutoModelForSeq2SeqLM.from_pretrained(\n",
    "    base_model_name,\n",
    "    quantization_config=quantization_config,\n",
    "    device_map={\"\": 0}\n",
    ")\n",
    "tokenizer = AutoTokenizer.from_pretrained(\"EXt1/KMUTT-CPE35-thai-mt5base-summarizer\")\n",
    "# โหลด Adapter ที่ฝึกไว้\n",
    "model = PeftModel.from_pretrained(\n",
    "    base_model,\n",
    "    model_path,\n",
    "    device_map={\"\": 0}\n",
    ")\n",
    "\n",
    "model = model.merge_and_unload()\n",
    "model.eval()\n"
   ]
  },
  {
   "cell_type": "code",
   "execution_count": 2,
   "id": "d4994a97",
   "metadata": {},
   "outputs": [
    {
     "name": "stdout",
     "output_type": "stream",
     "text": [
      "ขนาดของโมเดลหลัง Apply Quantization: 1.08 GB\n"
     ]
    }
   ],
   "source": [
    "print(f\"ขนาดของโมเดลหลัง Apply Quantization: {model.get_memory_footprint() / 1e9:.2f} GB\")\n",
    "# check_flash_attention(model)"
   ]
  },
  {
   "cell_type": "code",
   "execution_count": 10,
   "id": "0406503a",
   "metadata": {},
   "outputs": [
    {
     "name": "stdout",
     "output_type": "stream",
     "text": [
      "ประเทศไทย- หรือชื่อทางการว่า ราชอาณาจักรไทย เป็นรัฐชาติอันตั้งอยู่บนคาบสมุทรอินโดจีนและมลายู ในภูมิภาคเอเชียตะวันออกเฉียงใต้ มีเนื้อที่ 513,115 ตารางกิโลเมตร และมีประชากรมากเป็นอันดับที่ 20 ของโลก\n"
     ]
    }
   ],
   "source": [
    "sample_text = \"\"\"ประเทศไทย- หรือชื่อทางการว่า ราชอาณาจักรไทย เป็นรัฐชาติอันตั้งอยู่บนคาบสมุทรอินโดจีนและมลายู ในภูมิภาคเอเชียตะวันออกเฉียงใต้ มีพรมแดนด้านตะวันออกติดประเทศลาวและประเทศกัมพูชา ทิศใต้เป็นแดนต่อแดนประเทศมาเลเซียและอ่าวไทย ทิศตะวันตกติดทะเลอันดามันและประเทศพม่า และทิศเหนือติดประเทศพม่าและลาว มีแม่น้ำโขงกั้นเป็นบางช่วง ปกครองด้วยระบอบประชาธิปไตยแบบมีรัฐสภา มีศูนย์กลางการบริหารราชการแผ่นดินอยู่ที่กรุงเทพมหานคร และการปกครองส่วนภูมิภาค จัดระเบียบเป็น 76 จังหวัด\n",
    "ประเทศไทยมีขนาดใหญ่เป็นอันดับที่ 50 ของโลก มีเนื้อที่ 513,115 ตารางกิโลเมตร และมีประชากรมากเป็นอันดับที่ 20 ของโลก คือ ประมาณ 66 ล้านคน กับทั้งยังเป็นประเทศอุตสาหกรรมใหม่ โดยมีรายได้หลักจากภาคอุตสาหกรรมและการบริการ ไทยมีแหล่งท่องเที่ยวที่มีชื่อเสียงเป็นอันมาก อาทิ พัทยา, ภูเก็ต, กรุงเทพมหานคร และเชียงใหม่ ซึ่งสร้างรายได้ให้แก่ประเทศ เช่นเดียวกับการส่งออกอันมีส่วนสำคัญในการพัฒนาเศรษฐกิจและด้วยจีดีพีของประเทศ ซึ่งมีมูลค่าราว 334,026 ล้านดอลลาร์สหรัฐ ตามที่ประมาณใน พ.ศ. 2553 เศรษฐกิจของประเทศไทยนับว่าใหญ่เป็นอันดับที่ 30 ของโลก\n",
    "ในอาณาเขตประเทศไทย พบหลักฐานของมนุษย์ซึ่งมีอายุเก่าแก่ที่สุดถึงห้าแสนปี นักประวัติศาสตร์มักถือว่าอาณาจักรสุโขทัยเป็นจุดเริ่มต้นของประวัติศาสตร์ไทย ซึ่งต่อมาตกอยู่ในอิทธิพลของอาณาจักรอยุธยา อันมีความยิ่งใหญ่กว่า และมีการติดต่อกับชาติตะวันตก อาณาจักรอยุธยามีอายุยืนยาว 417 ปีก็เสื่อมอำนาจและล่มสลายไปโดยสิ้นเชิง สมเด็จพระเจ้ากรุงธนบุรีทรงกอบกู้เอกราชและสถาปนาอาณาจักรธนบุรี เหตุการณ์ความวุ่นวายในช่วงปลายอาณาจักร นำไปสู่ยุคสมัยของราชวงศ์จักรีแห่งกรุงรัตนโกสินทร์\n",
    "ช่วงต้นกรุง ประเทศเผชิญภัยคุกคามจากชาติใกล้เคียง แต่หลังรัชสมัยพระบาทสมเด็จพระจอมเกล้าเจ้าอยู่หัวเป็นต้นมา ชาติตะวันตกเริ่มมีอิทธิพลในภูมิภาคเป็นอย่างมาก นำไปสู่การเข้าเป็นภาคีแห่งสนธิสัญญาหลายฉบับ และการเสียดินแดนบางส่วน กระนั้น ไทยก็ยังธำรงตนมิได้เป็นอาณานิคมของชาติใด ๆ ต่อมาจนช่วงสงครามโลกครั้งที่หนึ่ง ไทยได้เข้าร่วมกับฝ่ายสัมพันธมิตร และในปี พ.ศ. 2475 ได้มีการปฏิวัติเปลี่ยนแปลงจากระบอบสมบูรณาญาสิทธิราชมาเป็นประชาธิปไตย และไทยได้เข้ากับฝ่ายอักษะในระหว่างสงครามโลกครั้งที่สอง จนช่วงสงครามเย็น ไทยได้ดำเนินนโยบายเป็นพันธมิตรกับสหรัฐอเมริกา ทหารเข้ามามีบทบาทในการเมืองไทยอย่างมากหลังปฏิวัติสยามอยู่หลายสิบปี กระทั่งมีการตั้งรัฐบาลพลเรือน และเข้าสู่ยุคโลกเสรีในปัจจุบัน\n",
    "\"\"\"\n",
    "# Tokenize the input text\n",
    "inputs = tokenizer(sample_text, return_tensors=\"pt\", max_length=512, truncation=True)\n",
    "\n",
    "# สร้างการสรุป\n",
    "with torch.no_grad():\n",
    "    summary_ids = model.generate(\n",
    "        inputs[\"input_ids\"].to(model.device),\n",
    "        max_new_tokens=256,  # กำหนดความยาวของสรุปที่ต้องการ\n",
    "        num_beams=4,\n",
    "        early_stopping=True\n",
    "    )\n",
    "\n",
    "# Decode the generated summary\n",
    "summary = tokenizer.decode(summary_ids[0], skip_special_tokens=True)\n",
    "print(summary)"
   ]
  },
  {
   "cell_type": "code",
   "execution_count": null,
   "id": "f26af833",
   "metadata": {},
   "outputs": [],
   "source": []
  }
 ],
 "metadata": {
  "kernelspec": {
   "display_name": "base",
   "language": "python",
   "name": "python3"
  },
  "language_info": {
   "codemirror_mode": {
    "name": "ipython",
    "version": 3
   },
   "file_extension": ".py",
   "mimetype": "text/x-python",
   "name": "python",
   "nbconvert_exporter": "python",
   "pygments_lexer": "ipython3",
   "version": "3.12.3"
  }
 },
 "nbformat": 4,
 "nbformat_minor": 5
}
